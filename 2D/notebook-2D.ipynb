{
 "cells": [
  {
   "cell_type": "code",
   "execution_count": null,
   "id": "b9e9c7a4-a59c-4a4c-85f8-13130867629f",
   "metadata": {},
   "outputs": [],
   "source": [
    "# import utilities and plotting\n",
    "from sys import path\n",
    "path.append('../lib')\n",
    "\n",
    "%matplotlib notebook\n",
    "from argparse import Namespace\n",
    "import numpy as np\n",
    "import matplotlib.pyplot as plt\n",
    "import matplotlib.animation\n",
    "from IPython.display import display\n",
    "# make figures higher resolution (larger)\n",
    "plt.rcParams['figure.dpi'] = 150\n",
    "# A decent backend for animations\n",
    "plt.rcParams[\"animation.html\"] = \"jshtml\"\n",
    "# let 'em get big\n",
    "plt.rcParams[\"animation.embed_limit\"] = 100  # MB\n",
    "\n",
    "%load_ext autoreload\n",
    "%autoreload 2\n",
    "\n",
    "# import our code that we need\n",
    "import fixed_center_of_mass_exact as fcm\n",
    "#import fixed_center_of_mass_exact as fsm\n",
    "from davidson import solve_davidson\n",
    "from constants import *\n",
    "from hamiltonian import solve_BO_surfaces\n",
    "\n",
    "# don't use too many cores\n",
    "from pyscf import lib as pyscflib\n",
    "pyscflib.num_threads(16)"
   ]
  },
  {
   "cell_type": "code",
   "execution_count": null,
   "id": "a4cbfebe-a275-4a3d-95b2-da839e9d672e",
   "metadata": {},
   "outputs": [],
   "source": [
    "# set up the calculation\n",
    "args = Namespace(\n",
    "    M_1 = 1.0,\n",
    "    M_2 = 1.0,\n",
    "    g_1 = 1.0,\n",
    "    g_2 = 1.0,\n",
    "    NR = 150,\n",
    "    Nr = 400,\n",
    "    Ng = 200,\n",
    "    J = 0\n",
    "    #extent = (2,4,0,5)  # defaults are (2,4,0,5), but they should be selected better\n",
    ")\n",
    "\n",
    "# build the terms in the Hamiltonian\n",
    "TR, Tr, Tg, Vgrid, Hx, (R,P), (r,p), (g, pg) = fcm.build_terms(args)\n",
    "\n",
    "\n",
    "levels = np.linspace(np.min(Vgrid), np.min(Vgrid) + 0.15, 16) # 0.15 a.u. ~4 eV range"
   ]
  },
  {
   "cell_type": "code",
   "execution_count": null,
   "id": "4722fa98-db2b-475f-82e2-36d9354cbec2",
   "metadata": {},
   "outputs": [],
   "source": [
    "# plot many polar slices in R (what the electron sees)\n",
    "\n",
    "def init(fig, ax):  # sets up colorbar\n",
    "    ax.contour(*np.meshgrid(g,r, indexing='ij'), Vgrid[0,:,:].T, levels=levels)\n",
    "    cs = ax.contourf(*np.meshgrid(g,r, indexing='ij'), Vgrid[0,:,:].T, levels=levels) # dummy contour with filled patches\n",
    "    cbar = fig.colorbar(cs, orientation='horizontal', fraction=0.05)\n",
    "    cs.remove()\n",
    "    cbar.set_label(\"E / a.u.\")\n",
    "\n",
    "def animate(t):\n",
    "    ax.cla()\n",
    "    ax.contour(*np.meshgrid(g,r, indexing='ij'), Vgrid[t,:,:].T, levels=levels)\n",
    "    ax.text(np.pi/2,6,f\"R={R[t]:0.03}a₀\", ha='center')\n",
    "\n",
    "    ax.grid(axis='x')\n",
    "    locs=ax.get_xticks()\n",
    "    labels = [f'{th/np.pi:.03}π' for th in locs]\n",
    "    ax.set_xticks(locs, labels)\n",
    "    [limit]=ax.get_yticks()[-1:]\n",
    "    ax.set_yticks([limit], [f\"r={limit}a₀\"])\n",
    "\n",
    "\n",
    "fig, ax = plt.subplots(subplot_kw=dict(projection='polar'))\n",
    "init(fig, ax)\n",
    "\n",
    "ani=matplotlib.animation.FuncAnimation(fig, animate, frames=args.NR)\n",
    "display(ani)"
   ]
  },
  {
   "cell_type": "code",
   "execution_count": null,
   "id": "67904d7f-8bc3-4adc-b846-e009fda23ca9",
   "metadata": {},
   "outputs": [],
   "source": [
    "# plot many slices, but this time just the radial components\n",
    "fig, ax = plt.subplots()\n",
    "def animate(t):\n",
    "    ax.cla()\n",
    "    #for c in ax.collections: c.remove\n",
    "    ax.contour(*np.meshgrid(R, r, indexing='ij'), Vgrid[:,:,t], levels=levels)\n",
    "    ax.set_xlabel(\"R / a.u.\")\n",
    "    ax.set_ylabel(\"r / a.u.\")\n",
    "    ax.text(4,8,f\"γ={g[t]/np.pi:0.03}π\")\n",
    "\n",
    "ani=matplotlib.animation.FuncAnimation(fig, animate, frames=args.Ng)\n",
    "display(ani)"
   ]
  },
  {
   "cell_type": "code",
   "execution_count": null,
   "id": "202eeb26-4603-4846-8325-917728fe26f5",
   "metadata": {},
   "outputs": [],
   "source": [
    "from hamiltonian import KE, KE_FFT\n",
    "Nx=5\n",
    "x=np.linspace(0,1,Nx)\n",
    "dx=x[1]-x[0]\n",
    "px  = np.fft.fftshift(np.fft.fftfreq(Nx, dx)) * 2 * np.pi\n",
    "T_fft = np.real(KE_FFT(Nx, px, x, 1))\n",
    "T_stn = KE(Nx, dx, 1, stencil_size=3)\n",
    "print(T_fft)\n",
    "print(T_stn)\n",
    "print(T_stn/T_fft)"
   ]
  },
  {
   "cell_type": "code",
   "execution_count": null,
   "id": "0adbe875-eed3-45b1-a944-ee0b04e0704b",
   "metadata": {},
   "outputs": [],
   "source": [
    "levels = np.linspace(np.min(Vgrid), 0.08, 15)\n",
    "fig, ax = plt.subplots()\n",
    "ax.contour(*np.meshgrid(R, r, indexing='ij'), Vgrid, levels=levels)\n",
    "ax.set_xlabel(\"R / a.u.\")\n",
    "ax.set_ylabel(\"r / a.u.\")\n",
    "ax.set_title(\"Potential energy surface\")"
   ]
  },
  {
   "cell_type": "code",
   "execution_count": null,
   "id": "919e3c45-09bb-449d-a2e2-5047121d1df3",
   "metadata": {},
   "outputs": [],
   "source": [
    "# plot the first 5 BO surfaces\n",
    "fix, ax = plt.subplots()\n",
    "colors=['r','b','g','k','m']\n",
    "for i in range(5):\n",
    "    ax.plot(R, surfs[i], color=colors[i])\n",
    "    _, psi_bo = np.linalg.eigh(TR+np.diag(surfs[i]))\n",
    "    psi_bo2 = psi_bo[:,0]**2\n",
    "    ax.plot(R, psi_bo2/np.max(psi_bo2)*0.02+np.min(surfs[i]), color=colors[i], label=f'state {i}')\n",
    "ax.legend(loc='best')\n",
    "ax.set_xlabel(\"R / a.u.\")\n",
    "ax.set_ylabel(\"E / a.u.\")\n",
    "plt.ylim(-0.06,0.03)\n",
    "ax.set_title(\"Born-Oppenhimer States\")"
   ]
  },
  {
   "cell_type": "code",
   "execution_count": null,
   "id": "7347cb05-8209-45df-a753-dc2ec081b080",
   "metadata": {},
   "outputs": [],
   "source": [
    "# plot the guesses\n",
    "from davidson import build_preconditioner\n",
    "_, guesses = build_preconditioner(TR, Tr+Tmp, Vgrid)\n",
    "N=len(guesses)\n",
    "\n",
    "levels = np.linspace(np.min(Vgrid), 0.08, 10)\n",
    "fix, axs = plt.subplots(1,N, sharey=True)\n",
    "for i, ax in enumerate(axs):\n",
    "    ax.contour(*np.meshgrid(R, r, indexing='ij'), Vgrid, levels=levels)\n",
    "    psi = guesses[i].reshape(args.NR,args.Nr)\n",
    "    limit = np.max(np.abs(psi))\n",
    "    ax.imshow(psi.T, extent=(args.extent * ANGSTROM_TO_BOHR), origin='lower', cmap='seismic', vmin=-limit, vmax=limit)\n",
    "fig.suptitle(\"Trial wavefunctions\")"
   ]
  },
  {
   "cell_type": "code",
   "execution_count": null,
   "id": "3906b628-b869-403f-b21b-990d61d0ae5f",
   "metadata": {},
   "outputs": [],
   "source": [
    "# solve the full system (if this is the first time running, get rid of the guess)\n",
    "conv, e_approx, evecs = solve_davidson(TR, Tr + Tmp, Vgrid, num_state=10)"
   ]
  },
  {
   "cell_type": "code",
   "execution_count": null,
   "id": "090f4c43-fd0f-43fd-a543-ba9d366f5e7e",
   "metadata": {},
   "outputs": [],
   "source": [
    "# plot the potential and the first excited wavefunction (with phase information)\n",
    "levels = np.linspace(np.min(Vgrid), 0.08, 10)\n",
    "fix, axs = plt.subplots(3,3, sharey='row', sharex='col', constrained_layout=True)\n",
    "for i, ax in enumerate(axs.flatten()):\n",
    "    ax.contour(*np.meshgrid(R, r, indexing='ij'), Vgrid, levels=levels)\n",
    "    psi = evecs[i].reshape(args.NR,args.Nr)\n",
    "    limit = np.max(np.abs(psi))\n",
    "    ax.imshow(psi.T, extent=(args.extent * ANGSTROM_TO_BOHR), origin='lower', cmap='seismic', vmin=-limit, vmax=limit)\n",
    "fig.suptitle(\"Solution wavefunctions\")"
   ]
  },
  {
   "cell_type": "code",
   "execution_count": null,
   "id": "28b883cb-b877-4176-b6c9-c04c13f76c2f",
   "metadata": {},
   "outputs": [],
   "source": []
  }
 ],
 "metadata": {
  "kernelspec": {
   "display_name": "Python 3 (ipykernel)",
   "language": "python",
   "name": "python3"
  },
  "language_info": {
   "codemirror_mode": {
    "name": "ipython",
    "version": 3
   },
   "file_extension": ".py",
   "mimetype": "text/x-python",
   "name": "python",
   "nbconvert_exporter": "python",
   "pygments_lexer": "ipython3",
   "version": "3.12.9"
  }
 },
 "nbformat": 4,
 "nbformat_minor": 5
}
