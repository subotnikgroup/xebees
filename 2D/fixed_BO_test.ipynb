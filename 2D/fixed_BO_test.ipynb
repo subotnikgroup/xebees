{
 "cells": [
  {
   "cell_type": "code",
   "execution_count": 3,
   "id": "8e8df9ec-943a-42e6-8dc7-fdf9c6fa94bf",
   "metadata": {},
   "outputs": [],
   "source": [
    "%load_ext autoreload\n",
    "%autoreload 2"
   ]
  },
  {
   "cell_type": "code",
   "execution_count": 4,
   "id": "90901fc8-f0d3-4a74-84f8-d9d90b619368",
   "metadata": {},
   "outputs": [
    {
     "data": {
      "text/plain": [
       "<threadpoolctl._ThreadpoolLimiter at 0x104149540>"
      ]
     },
     "execution_count": 4,
     "metadata": {},
     "output_type": "execute_result"
    }
   ],
   "source": [
    "# import utilities and plotting\n",
    "from argparse import Namespace\n",
    "import numpy as np\n",
    "import matplotlib.pyplot as plt\n",
    "\n",
    "from IPython.display import display\n",
    "import os, sys \n",
    "sys.path.append(os.path.abspath(\"lib\")) # N.B: NB needs this line to run locally!!\n",
    "\n",
    "# make figures higher resolution (larger)\n",
    "plt.rcParams['figure.dpi'] = 80\n",
    "# A decent backend for animations\n",
    "plt.rcParams[\"animation.html\"] = \"jshtml\"\n",
    "# let 'em get big\n",
    "plt.rcParams[\"animation.embed_limit\"] = 80  # MB\n",
    "\n",
    "# import our code that we need\n",
    "import fixed_center_of_mass_exact as fcm\n",
    "#import fixed_center_of_mass_exact as fsm\n",
    "from davidson import solve_davidson\n",
    "from constants import *\n",
    "from hamiltonian import solve_BO_surfaces\n",
    "from plotting import plotpotential2D\n",
    "\n",
    "# don't use too many cores\n",
    "from threadpoolctl import ThreadpoolController\n",
    "threadctl = ThreadpoolController()\n",
    "threadctl.limit(limits=16)"
   ]
  },
  {
   "cell_type": "code",
   "execution_count": 5,
   "id": "3d12a1e5-16e7-46e7-a5f3-9c563dd8c3fd",
   "metadata": {},
   "outputs": [
    {
     "name": "stdout",
     "output_type": "stream",
     "text": [
      "[Build preconditioner naive] Elapsed time: 6.76us\n",
      "[Build preconditioner naive] Elapsed time: 3.61us\n"
     ]
    }
   ],
   "source": [
    "# set up the calculation\n",
    "args1 = Namespace(\n",
    "    M_1 = 40, M_2 = 40, J=0,\n",
    "    g_1 = 1.0, g_2 = 1.0,\n",
    "    NR = 51, Nr =32 , Ng = 34,\n",
    "    #NR = 25, Nr = 200, Ng = 100,\n",
    "    extent = (0.2,3,3),   # defaults are (2,4,5), but they should be selected better (R_min, R_max, r_max)\n",
    "    t = 16\n",
    ")\n",
    "\n",
    "# build the terms in the Hamiltonian\n",
    "H1 = fcm.Hamiltonian(args1)\n",
    "\n",
    "args100 = Namespace(\n",
    "    M_1 = 4000, M_2 = 4000, J=0,\n",
    "    g_1 = 1.0, g_2 = 1.0,\n",
    "    NR = 51, Nr =32 , Ng = 34,\n",
    "    #NR = 25, Nr = 200, Ng = 100,\n",
    "    extent = (0.2,3,3),   # defaults are (2,4,5), but they should be selected better (R_min, R_max, r_max)\n",
    "    t = 16\n",
    ")\n",
    "\n",
    "# build the terms in the Hamiltonian\n",
    "H100 = fcm.Hamiltonian(args100)\n",
    "\n",
    "# levels = np.linspace(np.min(H.Vgrid), np.min(H.Vgrid) + 0.15, 16) # 0.15 a.u. ~4 eV range\n",
    "# print(levels)\n",
    "# display(plotpotential2D(H, levels))"
   ]
  },
  {
   "cell_type": "code",
   "execution_count": 10,
   "id": "a0c4f839-bb87-48a1-a887-c1c3fc136392",
   "metadata": {
    "scrolled": true
   },
   "outputs": [
    {
     "name": "stdout",
     "output_type": "stream",
     "text": [
      "NOT FIXED YET!!!!!\n",
      "ratio lab KE / scaled KE : 2000.2500000000005\n",
      "check: two ways to build mu_r!! 0.9876543209876545 0.9876543209876543\n",
      "mu_r check, 2/3 < mu_r < 1 by definition!!!  0.9876543209876543\n",
      "1.012373453318335 10.061677063583064\n"
     ]
    }
   ],
   "source": [
    "# build KE in the \"scaled\" frame\n",
    "KE1 = 1/(H1.mu)*H1.ddr2\n",
    "KE100 = 1/(H100.mu)*H100.ddr2\n",
    "\n",
    "mu_r1 =H1.mu**2/H1.mu12\n",
    "mu_r100 = H100.mu**2/H100.mu12\n",
    "\n",
    "# build KE in the \"lab frame\"\n",
    "KEt = 1/mu_r100*H100.ddr_lab2\n",
    "# print(KE1[:3,:3])\n",
    "# print(KEt[:3,:3])\n",
    "print(\"NOT FIXED YET!!!!!\")\n",
    "print(\"ratio lab KE / scaled KE :\",(KEt/KE100)[0,0])\n",
    "\n",
    "\n",
    "print(\"check: two ways to build mu_r!!\", H1.mu**2/H1.mu12, H1.mu*H1.aa**2)\n",
    "\n",
    "mu_check = H1.m_e*(H1.M_1 + H1.M_2) / (H1.m_e + H1.M_1 + H1.M_2)\n",
    "print(\"mu_r check, 2/3 < mu_r < 1 by definition!!! \", mu_check)\n",
    "\n",
    "print(mu_r100/mu_r1, H100.mu/H1.mu)\n",
    "# print(H1.aa,H1.r[-1]*H1.aa)\n",
    "# print(H100.aa,H100.r[-1]*H100.aa)\n",
    "# print(H100.mu*H1.aa**2/(H1.mu*H100.aa**2))"
   ]
  },
  {
   "cell_type": "code",
   "execution_count": 11,
   "id": "5440dd8b-f136-48c4-8f04-a422ed06b217",
   "metadata": {},
   "outputs": [
    {
     "name": "stdout",
     "output_type": "stream",
     "text": [
      "Building BO spectrum\n",
      "Mock call to tqdm({'total': 51, 'desc': 'Building electronic surfaces'})\n",
      "Mock call to tqdm({'total': 1088, 'desc': 'Building vibrational states'})\n",
      "Building BO spectrum\n",
      "Mock call to tqdm({'total': 51, 'desc': 'Building electronic surfaces'})\n",
      "Mock call to tqdm({'total': 1088, 'desc': 'Building vibrational states'})\n"
     ]
    },
    {
     "data": {
      "text/plain": [
       "<matplotlib.legend.Legend at 0x11f451f00>"
      ]
     },
     "execution_count": 11,
     "metadata": {},
     "output_type": "execute_result"
    },
    {
     "data": {
      "image/png": "[encoded data removed]",
      "text/plain": [
       "<Figure size 512x384 with 1 Axes>"
      ]
     },
     "metadata": {},
     "output_type": "display_data"
    }
   ],
   "source": [
    "#B = np.load('../spec.npz')['bo_spectrum']*HARTREE_TO_EV\n",
    "BO, BO_surf = H1.BO_spectrum()\n",
    "B100, B100_surf = H100.BO_spectrum()\n",
    "# plt.plot(np.arange(10), np.arange(10)**2)\n",
    "\n",
    "### N.B: note we had the transpose plotted by mistake BO[:10,n] --> BO[n,:10]\n",
    "plt.hlines(BO[0,:10] - BO[0,0], (0-0.4), (0+0.4), \"r\", label=\"M1=M1=40 au\")\n",
    "plt.hlines(B100[0,:10] - B100[0,0], (0-0.4), (0+0.4), \"b\", label=\"M1=M1=4000 au\")\n",
    "for n in range(1,10):\n",
    "    plt.hlines(BO[n,:10] - BO[0,0], (n-0.4), (n+0.4), \"r\")\n",
    "    plt.hlines(B100[n,:10] - B100[0,0], (n-0.4), (n+0.4), \"b\")\n",
    "plt.legend(loc='upper left')\n",
    "    # plt.hlines(BO[:10,n] - BO[0,0], (n-0.4), (n+0.4), \"r\")\n",
    "    # plt.hlines(B100[:10,n] - B100[0,0], (n-0.4), (n+0.4), \"b\")\n",
    "    #plt.hlines(BOorig[:10,n] - BOorig[0,0], (n-0.4), (n+0.4), 'k')\n",
    "\n",
    "### makes complete sense that it looks ~ n^2, the BO states of H_2+ \\propto n^2, check intro quantum book\n"
   ]
  },
  {
   "cell_type": "code",
   "execution_count": 12,
   "id": "b5ca0cb6-faa5-4f65-8858-0b5325143c15",
   "metadata": {},
   "outputs": [
    {
     "data": {
      "text/plain": [
       "<matplotlib.legend.Legend at 0x11f4e5cc0>"
      ]
     },
     "execution_count": 12,
     "metadata": {},
     "output_type": "execute_result"
    },
    {
     "data": {
      "image/png": "[encoded data removed]",
      "text/plain": [
       "<Figure size 512x384 with 1 Axes>"
      ]
     },
     "metadata": {},
     "output_type": "display_data"
    }
   ],
   "source": [
    "plt.plot(H1.R_lab, BO_surf[:,0], 'b',label=\"M1=M1=40 au\")\n",
    "plt.plot(H100.R_lab, B100_surf[:,0], 'k', label=\"M1=M2=4000 au ~ He_2^{3+}\")\n",
    "for i in range(1,5):\n",
    "    plt.plot(H1.R_lab, BO_surf[:,i], 'b')\n",
    "    plt.plot(H100.R_lab, B100_surf[:,i],'k')\n",
    "plt.legend()\n",
    "# plt.ylim(top=0.01)"
   ]
  },
  {
   "cell_type": "code",
   "execution_count": null,
   "id": "f0dd0c38-20c7-4185-978a-08f8191a9981",
   "metadata": {},
   "outputs": [],
   "source": []
  },
  {
   "cell_type": "code",
   "execution_count": null,
   "id": "53751b73-112a-4413-8de5-d5ab995a1369",
   "metadata": {},
   "outputs": [],
   "source": []
  },
  {
   "cell_type": "code",
   "execution_count": null,
   "id": "a19c8b6c-d7e1-4bee-98bc-c77ad55920c1",
   "metadata": {},
   "outputs": [],
   "source": []
  }
 ],
 "metadata": {
  "kernelspec": {
   "display_name": "Python 3 (ipykernel)",
   "language": "python",
   "name": "python3"
  },
  "language_info": {
   "codemirror_mode": {
    "name": "ipython",
    "version": 3
   },
   "file_extension": ".py",
   "mimetype": "text/x-python",
   "name": "python",
   "nbconvert_exporter": "python",
   "pygments_lexer": "ipython3",
   "version": "3.10.16"
  }
 },
 "nbformat": 4,
 "nbformat_minor": 5
}
